{
  "nbformat": 4,
  "nbformat_minor": 0,
  "metadata": {
    "colab": {
      "name": "Python Batch 3 ",
      "provenance": [],
      "authorship_tag": "ABX9TyP8DVa7hR50iwcCxwt8rFIn",
      "include_colab_link": true
    },
    "kernelspec": {
      "display_name": "Python 3",
      "name": "python3"
    }
  },
  "cells": [
    {
      "cell_type": "markdown",
      "metadata": {
        "id": "view-in-github",
        "colab_type": "text"
      },
      "source": [
        "<a href=\"https://colab.research.google.com/github/suprajaarthi/Python-Basics/blob/main/Python_Batch_3.ipynb\" target=\"_parent\"><img src=\"https://colab.research.google.com/assets/colab-badge.svg\" alt=\"Open In Colab\"/></a>"
      ]
    },
    {
      "cell_type": "code",
      "metadata": {
        "id": "u9s2nqzMwmDS",
        "outputId": "14d9a2a3-6d98-43c9-8231-81b91425615e",
        "colab": {
          "base_uri": "https://localhost:8080/"
        }
      },
      "source": [
        "a=50\n",
        "print(a)"
      ],
      "execution_count": null,
      "outputs": [
        {
          "output_type": "stream",
          "text": [
            "50\n"
          ],
          "name": "stdout"
        }
      ]
    },
    {
      "cell_type": "code",
      "metadata": {
        "id": "xqB1MuLL7kFi",
        "outputId": "850b989a-1128-49e4-dacf-57d2807568a7",
        "colab": {
          "base_uri": "https://localhost:8080/"
        }
      },
      "source": [
        "print(type(a))"
      ],
      "execution_count": null,
      "outputs": [
        {
          "output_type": "stream",
          "text": [
            "<class 'int'>\n"
          ],
          "name": "stdout"
        }
      ]
    },
    {
      "cell_type": "code",
      "metadata": {
        "id": "XAVRbnJv8iWI",
        "outputId": "8f40ba68-04e6-4551-dfaa-db887f682717",
        "colab": {
          "base_uri": "https://localhost:8080/"
        }
      },
      "source": [
        "a=50\n",
        "if a==500:\n",
        "  print(\"True\")\n",
        "else:\n",
        "  print(\"False\")"
      ],
      "execution_count": 4,
      "outputs": [
        {
          "output_type": "stream",
          "text": [
            "False\n"
          ],
          "name": "stdout"
        }
      ]
    },
    {
      "cell_type": "code",
      "metadata": {
        "id": "Ss8-Zv4x9pTt",
        "outputId": "7ed1ff4a-e70e-4391-e226-c266aed0422e",
        "colab": {
          "base_uri": "https://localhost:8080/",
          "height": 248
        }
      },
      "source": [
        "#Logical error\n",
        "n=int(input())\n",
        "c=0\n",
        "for i in range(n):\n",
        "  if n%i==0:\n",
        "    c+=1\n",
        "\n",
        "print(c)\n"
      ],
      "execution_count": null,
      "outputs": [
        {
          "output_type": "stream",
          "text": [
            "100\n"
          ],
          "name": "stdout"
        },
        {
          "output_type": "error",
          "ename": "ZeroDivisionError",
          "evalue": "ignored",
          "traceback": [
            "\u001b[0;31m---------------------------------------------------------------------------\u001b[0m",
            "\u001b[0;31mZeroDivisionError\u001b[0m                         Traceback (most recent call last)",
            "\u001b[0;32m<ipython-input-19-ef62a6746ef5>\u001b[0m in \u001b[0;36m<module>\u001b[0;34m()\u001b[0m\n\u001b[1;32m      2\u001b[0m \u001b[0mc\u001b[0m\u001b[0;34m=\u001b[0m\u001b[0;36m0\u001b[0m\u001b[0;34m\u001b[0m\u001b[0;34m\u001b[0m\u001b[0m\n\u001b[1;32m      3\u001b[0m \u001b[0;32mfor\u001b[0m \u001b[0mi\u001b[0m \u001b[0;32min\u001b[0m \u001b[0mrange\u001b[0m\u001b[0;34m(\u001b[0m\u001b[0mn\u001b[0m\u001b[0;34m)\u001b[0m\u001b[0;34m:\u001b[0m\u001b[0;34m\u001b[0m\u001b[0;34m\u001b[0m\u001b[0m\n\u001b[0;32m----> 4\u001b[0;31m   \u001b[0;32mif\u001b[0m \u001b[0mn\u001b[0m\u001b[0;34m%\u001b[0m\u001b[0mi\u001b[0m\u001b[0;34m==\u001b[0m\u001b[0;36m0\u001b[0m\u001b[0;34m:\u001b[0m\u001b[0;34m\u001b[0m\u001b[0;34m\u001b[0m\u001b[0m\n\u001b[0m\u001b[1;32m      5\u001b[0m     \u001b[0mc\u001b[0m\u001b[0;34m+=\u001b[0m\u001b[0;36m1\u001b[0m\u001b[0;34m\u001b[0m\u001b[0;34m\u001b[0m\u001b[0m\n\u001b[1;32m      6\u001b[0m \u001b[0;34m\u001b[0m\u001b[0m\n",
            "\u001b[0;31mZeroDivisionError\u001b[0m: integer division or modulo by zero"
          ]
        }
      ]
    },
    {
      "cell_type": "code",
      "metadata": {
        "id": "LRtJbeOP-Os_",
        "outputId": "800ac730-71fe-4cee-fce8-1e57ec7dd125",
        "colab": {
          "base_uri": "https://localhost:8080/"
        }
      },
      "source": [
        "a=5\n",
        "print(id(a))\n",
        "a=50\n",
        "print(id(a))"
      ],
      "execution_count": null,
      "outputs": [
        {
          "output_type": "stream",
          "text": [
            "10914624\n",
            "10916064\n"
          ],
          "name": "stdout"
        }
      ]
    },
    {
      "cell_type": "code",
      "metadata": {
        "id": "QRuQYLHk-Zvv",
        "outputId": "05811ef6-affe-4401-9b46-2f5939813dcc",
        "colab": {
          "base_uri": "https://localhost:8080/",
          "height": 129
        }
      },
      "source": [
        "#invalid keywords\n",
        "# _a=100\n",
        "# b%6=100\n",
        "# c=100\n",
        "while=0\n",
        "print(while)"
      ],
      "execution_count": null,
      "outputs": [
        {
          "output_type": "error",
          "ename": "SyntaxError",
          "evalue": "ignored",
          "traceback": [
            "\u001b[0;36m  File \u001b[0;32m\"<ipython-input-23-b6748ec45bc9>\"\u001b[0;36m, line \u001b[0;32m4\u001b[0m\n\u001b[0;31m    while=0\u001b[0m\n\u001b[0m         ^\u001b[0m\n\u001b[0;31mSyntaxError\u001b[0m\u001b[0;31m:\u001b[0m invalid syntax\n"
          ]
        }
      ]
    },
    {
      "cell_type": "code",
      "metadata": {
        "id": "6ecKQ2eDAMpP",
        "outputId": "a0e39864-bbca-4b4b-8178-578300d1adce",
        "colab": {
          "base_uri": "https://localhost:8080/"
        }
      },
      "source": [
        "azAZ_=10\n",
        "print(azAZ_)"
      ],
      "execution_count": null,
      "outputs": [
        {
          "output_type": "stream",
          "text": [
            "10\n"
          ],
          "name": "stdout"
        }
      ]
    },
    {
      "cell_type": "code",
      "metadata": {
        "id": "kBsJGqELAena",
        "outputId": "fac0ece8-e1bb-44a3-8c06-8a9a64e6fd53",
        "colab": {
          "base_uri": "https://localhost:8080/"
        }
      },
      "source": [
        "a=5\n",
        "print(type(a))\n",
        "b=5.0\n",
        "print(type(b))\n",
        "c=5+3j\n",
        "print(type(c))\n",
        "d=True\n",
        "e=False\n",
        "print(type(d))\n",
        "print(type(e))"
      ],
      "execution_count": null,
      "outputs": [
        {
          "output_type": "stream",
          "text": [
            "<class 'int'>\n",
            "<class 'float'>\n",
            "<class 'complex'>\n",
            "<class 'bool'>\n",
            "<class 'bool'>\n"
          ],
          "name": "stdout"
        }
      ]
    },
    {
      "cell_type": "code",
      "metadata": {
        "id": "BBM3-_4P-YPM",
        "outputId": "c6802d87-1864-497d-8d52-51a11e5ea881",
        "colab": {
          "base_uri": "https://localhost:8080/"
        }
      },
      "source": [
        "fruits=[\"Apple\",\"Carrot\"]\n",
        "print(type(fruits))\n",
        "animals=(\"Cat\",\"Bat\",\"Donkey\",1,2)\n",
        "print(animals)\n",
        "print(type(animals))\n",
        "s={\"A\",\"B\"}\n",
        "print(type(s))\n",
        "q={\"A\",\"A\",\"B\",1,2}\n",
        "print(q)\n",
        "dict1={1:\"Ant\",2:\"Bat\"}\n",
        "print(type(dict1))"
      ],
      "execution_count": null,
      "outputs": [
        {
          "output_type": "stream",
          "text": [
            "<class 'list'>\n",
            "('Cat', 'Bat', 'Donkey', 1, 2)\n",
            "<class 'tuple'>\n",
            "<class 'set'>\n",
            "{1, 2, 'B', 'A'}\n",
            "<class 'dict'>\n"
          ],
          "name": "stdout"
        }
      ]
    },
    {
      "cell_type": "code",
      "metadata": {
        "id": "0a8G6zw1BU7G",
        "outputId": "aa30d520-569e-4b73-9dc9-76e2bb3e8692",
        "colab": {
          "base_uri": "https://localhost:8080/"
        }
      },
      "source": [
        "#string\n",
        "s=input()\n",
        "print(s)"
      ],
      "execution_count": null,
      "outputs": [
        {
          "output_type": "stream",
          "text": [
            "apple\n",
            "apple\n"
          ],
          "name": "stdout"
        }
      ]
    },
    {
      "cell_type": "code",
      "metadata": {
        "id": "ZgO3-uJUBuu-",
        "outputId": "aa1bac86-7cd2-4d99-efbb-b5aae3bbde2a",
        "colab": {
          "base_uri": "https://localhost:8080/"
        }
      },
      "source": [
        "#int\n",
        "a=int(input())\n",
        "print(a)"
      ],
      "execution_count": null,
      "outputs": [
        {
          "output_type": "stream",
          "text": [
            "5\n",
            "5\n"
          ],
          "name": "stdout"
        }
      ]
    },
    {
      "cell_type": "code",
      "metadata": {
        "id": "tPmw69a9B2gQ",
        "outputId": "da3e2ba5-290a-4b7c-e44e-765d72add9c3",
        "colab": {
          "base_uri": "https://localhost:8080/"
        }
      },
      "source": [
        "fl=float(input())\n",
        "print(fl)"
      ],
      "execution_count": null,
      "outputs": [
        {
          "output_type": "stream",
          "text": [
            "9.9999\n",
            "9.9999\n"
          ],
          "name": "stdout"
        }
      ]
    },
    {
      "cell_type": "code",
      "metadata": {
        "id": "Jkz0q-2hB77E",
        "outputId": "4d072622-64ea-462b-b00a-568168eba19d",
        "colab": {
          "base_uri": "https://localhost:8080/"
        }
      },
      "source": [
        "l=list(map(int,input().split()))\n",
        "print(l)"
      ],
      "execution_count": null,
      "outputs": [
        {
          "output_type": "stream",
          "text": [
            "1 2 3 4\n",
            "[1, 2, 3, 4]\n"
          ],
          "name": "stdout"
        }
      ]
    },
    {
      "cell_type": "code",
      "metadata": {
        "id": "iU9qK9GtCKcT",
        "outputId": "6c8a91be-720a-40f8-9b38-c6c530228c28",
        "colab": {
          "base_uri": "https://localhost:8080/"
        }
      },
      "source": [
        "l=list(map(str,input().split()))\n",
        "print(l)"
      ],
      "execution_count": null,
      "outputs": [
        {
          "output_type": "stream",
          "text": [
            "a b cat \n",
            "['a', 'b', 'cat']\n"
          ],
          "name": "stdout"
        }
      ]
    },
    {
      "cell_type": "code",
      "metadata": {
        "id": "YzGlVZJNCXrm",
        "outputId": "598e9c75-d78f-4c17-be4d-1994cb84359b",
        "colab": {
          "base_uri": "https://localhost:8080/"
        }
      },
      "source": [
        "t=tuple(map(int,input().split()))\n",
        "print(t)\n"
      ],
      "execution_count": null,
      "outputs": [
        {
          "output_type": "stream",
          "text": [
            "100 200 300\n",
            "(100, 200, 300)\n"
          ],
          "name": "stdout"
        }
      ]
    },
    {
      "cell_type": "code",
      "metadata": {
        "id": "vY0lo7KlCfMd",
        "outputId": "c486a455-a7c9-44c5-fc95-2b17e57ba7fc",
        "colab": {
          "base_uri": "https://localhost:8080/"
        }
      },
      "source": [
        "s=set()\n",
        "s.add('a')\n",
        "s.add('b')\n",
        "print(s)"
      ],
      "execution_count": null,
      "outputs": [
        {
          "output_type": "stream",
          "text": [
            "{'b', 'a'}\n"
          ],
          "name": "stdout"
        }
      ]
    },
    {
      "cell_type": "code",
      "metadata": {
        "id": "zz9EIsjiCrcZ",
        "outputId": "3e212111-2c6d-4fad-f489-676e4454926b",
        "colab": {
          "base_uri": "https://localhost:8080/"
        }
      },
      "source": [
        "l=[]\n",
        "l.append('apple')\n",
        "l.append('beetroot')\n",
        "l.insert(2,'zebra')\n",
        "print(l)"
      ],
      "execution_count": null,
      "outputs": [
        {
          "output_type": "stream",
          "text": [
            "['apple', 'beetroot', 'zebra']\n"
          ],
          "name": "stdout"
        }
      ]
    },
    {
      "cell_type": "code",
      "metadata": {
        "id": "wcb4-cRvDUB_",
        "outputId": "d1eb3f67-6b93-4b71-ed27-9718f1bf7fe0",
        "colab": {
          "base_uri": "https://localhost:8080/"
        }
      },
      "source": [
        "c=5+3j\n",
        "print(type(c))"
      ],
      "execution_count": null,
      "outputs": [
        {
          "output_type": "stream",
          "text": [
            "<class 'complex'>\n"
          ],
          "name": "stdout"
        }
      ]
    },
    {
      "cell_type": "code",
      "metadata": {
        "id": "Tkgwe-zwDfS5",
        "outputId": "4ef7d153-808b-4707-f09a-be2d6f65c1b1",
        "colab": {
          "base_uri": "https://localhost:8080/"
        }
      },
      "source": [
        "n=5\n",
        "if n==5:\n",
        "  print(True)\n",
        "else:\n",
        "  print(False)\n",
        "\n"
      ],
      "execution_count": null,
      "outputs": [
        {
          "output_type": "stream",
          "text": [
            "True\n"
          ],
          "name": "stdout"
        }
      ]
    },
    {
      "cell_type": "code",
      "metadata": {
        "id": "ZUKLwG3zDowB",
        "outputId": "7408e297-ac57-4bc2-fb29-6e05e2f3d6a2",
        "colab": {
          "base_uri": "https://localhost:8080/"
        }
      },
      "source": [
        "a=5\n",
        "print(a)\n",
        "del a\n",
        "print(a)"
      ],
      "execution_count": null,
      "outputs": [
        {
          "output_type": "stream",
          "text": [
            "5\n"
          ],
          "name": "stdout"
        }
      ]
    },
    {
      "cell_type": "code",
      "metadata": {
        "id": "t1lIauk4EIOV",
        "outputId": "776df5e9-83db-4923-ac2e-c9fe23e9c683",
        "colab": {
          "base_uri": "https://localhost:8080/"
        }
      },
      "source": [
        "s=\"Batman\"\n",
        "print(s[0])"
      ],
      "execution_count": null,
      "outputs": [
        {
          "output_type": "stream",
          "text": [
            "B\n"
          ],
          "name": "stdout"
        }
      ]
    },
    {
      "cell_type": "code",
      "metadata": {
        "id": "YE5YqimKEMtO",
        "outputId": "e09a4d32-3a9a-41d4-f2bc-bb0fc7eec7ec",
        "colab": {
          "base_uri": "https://localhost:8080/"
        }
      },
      "source": [
        "print(s[-1])"
      ],
      "execution_count": null,
      "outputs": [
        {
          "output_type": "stream",
          "text": [
            "n\n"
          ],
          "name": "stdout"
        }
      ]
    },
    {
      "cell_type": "code",
      "metadata": {
        "id": "C2XzVdMPERpT",
        "outputId": "3e546486-f818-40d7-80f6-29ec0db686e1",
        "colab": {
          "base_uri": "https://localhost:8080/"
        }
      },
      "source": [
        "print(s[3:6])"
      ],
      "execution_count": null,
      "outputs": [
        {
          "output_type": "stream",
          "text": [
            "man\n"
          ],
          "name": "stdout"
        }
      ]
    },
    {
      "cell_type": "code",
      "metadata": {
        "id": "HAOBi40SEYqg",
        "outputId": "cfec0af1-ca69-4b19-9304-d40da7716ee4",
        "colab": {
          "base_uri": "https://localhost:8080/"
        }
      },
      "source": [
        "s=\"APPLE\"\n",
        "print(s.lower())"
      ],
      "execution_count": null,
      "outputs": [
        {
          "output_type": "stream",
          "text": [
            "apple\n"
          ],
          "name": "stdout"
        }
      ]
    },
    {
      "cell_type": "code",
      "metadata": {
        "id": "T44F1zBQEf_i",
        "outputId": "72f82840-6c69-4eaf-b544-65866307a72c",
        "colab": {
          "base_uri": "https://localhost:8080/"
        }
      },
      "source": [
        "s=\"apple\"\n",
        "s=s.upper()\n",
        "print(s)"
      ],
      "execution_count": null,
      "outputs": [
        {
          "output_type": "stream",
          "text": [
            "APPLE\n"
          ],
          "name": "stdout"
        }
      ]
    },
    {
      "cell_type": "code",
      "metadata": {
        "id": "EmJvQNziErAa",
        "outputId": "583fa3a1-699a-4e1d-f432-d728bda3ecf1",
        "colab": {
          "base_uri": "https://localhost:8080/"
        }
      },
      "source": [
        "animal=\"Donkey\"\n",
        "print(animal[::-1])"
      ],
      "execution_count": null,
      "outputs": [
        {
          "output_type": "stream",
          "text": [
            "yeknoD\n"
          ],
          "name": "stdout"
        }
      ]
    },
    {
      "cell_type": "code",
      "metadata": {
        "id": "w_Ui98GJE23a",
        "outputId": "0ebc3f60-e4b8-43a7-f575-e66f44064265",
        "colab": {
          "base_uri": "https://localhost:8080/"
        }
      },
      "source": [
        "def add():\n",
        "  #defining my var \n",
        "  a=20\n",
        "  b=30\n",
        "  c=a+b \n",
        "  print(\"The sum is\",c)\n",
        "\n",
        "\n",
        "add()"
      ],
      "execution_count": null,
      "outputs": [
        {
          "output_type": "stream",
          "text": [
            "The sum is 50\n"
          ],
          "name": "stdout"
        }
      ]
    },
    {
      "cell_type": "code",
      "metadata": {
        "id": "kt56oKDIFIoG",
        "outputId": "6174641b-789b-48f7-9142-127d9a278e0b",
        "colab": {
          "base_uri": "https://localhost:8080/"
        }
      },
      "source": [
        "x=\"first var\"\n",
        "print(x)\n",
        "def main():\n",
        "  global x\n",
        "  print(x)\n",
        "  x=\"2nd var\"\n",
        "  print(x)\n",
        "\n",
        "main()\n",
        "print(x)"
      ],
      "execution_count": null,
      "outputs": [
        {
          "output_type": "stream",
          "text": [
            "first var\n",
            "first var\n",
            "2nd var\n",
            "2nd var\n"
          ],
          "name": "stdout"
        }
      ]
    },
    {
      "cell_type": "code",
      "metadata": {
        "id": "ShE50mA-EW4m",
        "outputId": "4cae4775-0a48-41a9-eaac-6381c579e155",
        "colab": {
          "base_uri": "https://localhost:8080/"
        }
      },
      "source": [
        "n=int(input())\n",
        "print(n)"
      ],
      "execution_count": null,
      "outputs": [
        {
          "output_type": "stream",
          "text": [
            "5\n",
            "5\n"
          ],
          "name": "stdout"
        }
      ]
    },
    {
      "cell_type": "code",
      "metadata": {
        "id": "JUmxLbh6EofZ",
        "outputId": "9e629914-604c-47aa-e9b2-1671f245fe58",
        "colab": {
          "base_uri": "https://localhost:8080/"
        }
      },
      "source": [
        "s=input()\n",
        "print(s)"
      ],
      "execution_count": null,
      "outputs": [
        {
          "output_type": "stream",
          "text": [
            "yuvasri\n",
            "yuvasri\n"
          ],
          "name": "stdout"
        }
      ]
    },
    {
      "cell_type": "code",
      "metadata": {
        "id": "GvN1gJU4EwOa",
        "outputId": "81e8b4f4-26d2-44fb-c93e-32f3efe902d0",
        "colab": {
          "base_uri": "https://localhost:8080/"
        }
      },
      "source": [
        "f=float(input())\n",
        "print(f)"
      ],
      "execution_count": null,
      "outputs": [
        {
          "output_type": "stream",
          "text": [
            "0.7777\n",
            "0.7777\n"
          ],
          "name": "stdout"
        }
      ]
    },
    {
      "cell_type": "code",
      "metadata": {
        "id": "qxeYfjPSE1rA",
        "outputId": "2334e33c-705c-46bc-ccf9-12c562d69b7c",
        "colab": {
          "base_uri": "https://localhost:8080/"
        }
      },
      "source": [
        "#list \n",
        "l=['cadbury','snickers','dairymilk']\n",
        "l.append('milkybar')\n",
        "print(l)"
      ],
      "execution_count": null,
      "outputs": [
        {
          "output_type": "stream",
          "text": [
            "['cadbury', 'snickers', 'dairymilk', 'milkybar']\n"
          ],
          "name": "stdout"
        }
      ]
    },
    {
      "cell_type": "code",
      "metadata": {
        "id": "uAHCGzGaFYY2",
        "outputId": "0830ef12-391b-4a50-f179-c0a3df8ac4ba",
        "colab": {
          "base_uri": "https://localhost:8080/",
          "height": 214
        }
      },
      "source": [
        "#tuple is not flexible \n",
        "l=('a','b','c')\n",
        "l.append('d')\n",
        "print(l)"
      ],
      "execution_count": null,
      "outputs": [
        {
          "output_type": "error",
          "ename": "AttributeError",
          "evalue": "ignored",
          "traceback": [
            "\u001b[0;31m---------------------------------------------------------------------------\u001b[0m",
            "\u001b[0;31mAttributeError\u001b[0m                            Traceback (most recent call last)",
            "\u001b[0;32m<ipython-input-8-5ccf951505dc>\u001b[0m in \u001b[0;36m<module>\u001b[0;34m()\u001b[0m\n\u001b[1;32m      1\u001b[0m \u001b[0;31m#tuple\u001b[0m\u001b[0;34m\u001b[0m\u001b[0;34m\u001b[0m\u001b[0;34m\u001b[0m\u001b[0m\n\u001b[1;32m      2\u001b[0m \u001b[0ml\u001b[0m\u001b[0;34m=\u001b[0m\u001b[0;34m(\u001b[0m\u001b[0;34m'a'\u001b[0m\u001b[0;34m,\u001b[0m\u001b[0;34m'b'\u001b[0m\u001b[0;34m,\u001b[0m\u001b[0;34m'c'\u001b[0m\u001b[0;34m)\u001b[0m\u001b[0;34m\u001b[0m\u001b[0;34m\u001b[0m\u001b[0m\n\u001b[0;32m----> 3\u001b[0;31m \u001b[0ml\u001b[0m\u001b[0;34m.\u001b[0m\u001b[0mappend\u001b[0m\u001b[0;34m(\u001b[0m\u001b[0;34m'd'\u001b[0m\u001b[0;34m)\u001b[0m\u001b[0;34m\u001b[0m\u001b[0;34m\u001b[0m\u001b[0m\n\u001b[0m\u001b[1;32m      4\u001b[0m \u001b[0mprint\u001b[0m\u001b[0;34m(\u001b[0m\u001b[0ml\u001b[0m\u001b[0;34m)\u001b[0m\u001b[0;34m\u001b[0m\u001b[0;34m\u001b[0m\u001b[0m\n",
            "\u001b[0;31mAttributeError\u001b[0m: 'tuple' object has no attribute 'append'"
          ]
        }
      ]
    },
    {
      "cell_type": "code",
      "metadata": {
        "id": "G6Bnx6MdFnWq",
        "outputId": "e61897bc-0779-42e6-8ed6-cb7915561bd4",
        "colab": {
          "base_uri": "https://localhost:8080/"
        }
      },
      "source": [
        "s={1,2,1,3}\n",
        "print(s)"
      ],
      "execution_count": null,
      "outputs": [
        {
          "output_type": "stream",
          "text": [
            "{1, 2, 3}\n"
          ],
          "name": "stdout"
        }
      ]
    },
    {
      "cell_type": "code",
      "metadata": {
        "id": "A1GGmRZQF4Sf",
        "outputId": "364fd03c-954f-4aae-ae6f-ecbb792b323e",
        "colab": {
          "base_uri": "https://localhost:8080/"
        }
      },
      "source": [
        "a=5\n",
        "print(id(a))\n",
        "a=50\n",
        "print(id(a))"
      ],
      "execution_count": null,
      "outputs": [
        {
          "output_type": "stream",
          "text": [
            "10914624\n",
            "10916064\n"
          ],
          "name": "stdout"
        }
      ]
    },
    {
      "cell_type": "code",
      "metadata": {
        "id": "IazSx822GHAQ",
        "outputId": "9250d3b9-18af-4b4e-b755-2d1d3300426d",
        "colab": {
          "base_uri": "https://localhost:8080/"
        }
      },
      "source": [
        "abc=50\n",
        "ABC=55\n",
        "aBc=500\n",
        "print(abc,ABC,aBc)"
      ],
      "execution_count": null,
      "outputs": [
        {
          "output_type": "stream",
          "text": [
            "50 55 500\n"
          ],
          "name": "stdout"
        }
      ]
    },
    {
      "cell_type": "code",
      "metadata": {
        "id": "ZJO7e_Q3GbTb"
      },
      "source": [
        "a=50\n",
        "A=500\n",
        "if(A==50):\n",
        "  print(\"True\")"
      ],
      "execution_count": null,
      "outputs": []
    },
    {
      "cell_type": "code",
      "metadata": {
        "id": "jE0hVX_HGp_L",
        "outputId": "a7380378-1c62-4398-e389-32b88872a13c",
        "colab": {
          "base_uri": "https://localhost:8080/"
        }
      },
      "source": [
        "_a=500\n",
        "# abb%%%=90\n",
        "print(_a)\n",
        "print(type(_a))"
      ],
      "execution_count": null,
      "outputs": [
        {
          "output_type": "stream",
          "text": [
            "500\n",
            "<class 'int'>\n"
          ],
          "name": "stdout"
        }
      ]
    },
    {
      "cell_type": "code",
      "metadata": {
        "id": "bCO476JlHVGD",
        "outputId": "dacbb813-bf43-4294-8b8f-bd9756b69216",
        "colab": {
          "base_uri": "https://localhost:8080/"
        }
      },
      "source": [
        "d={1:\"Dincy\",2:\"Sai\",3:\"Harini\"}\n",
        "print(type(d))"
      ],
      "execution_count": null,
      "outputs": [
        {
          "output_type": "stream",
          "text": [
            "<class 'dict'>\n"
          ],
          "name": "stdout"
        }
      ]
    },
    {
      "cell_type": "code",
      "metadata": {
        "id": "EqCISaheHpHm",
        "outputId": "dd60cb22-9ea2-4425-ea00-7cf1026194e5",
        "colab": {
          "base_uri": "https://localhost:8080/"
        }
      },
      "source": [
        "c=5+3j \n",
        "print(type(c))"
      ],
      "execution_count": null,
      "outputs": [
        {
          "output_type": "stream",
          "text": [
            "<class 'complex'>\n"
          ],
          "name": "stdout"
        }
      ]
    },
    {
      "cell_type": "code",
      "metadata": {
        "id": "O3KDUaj8Hu19",
        "outputId": "f9414a2b-caf0-41bf-e115-d45e4b98504e",
        "colab": {
          "base_uri": "https://localhost:8080/"
        }
      },
      "source": [
        "s1=\"a\"\n",
        "s2=\"Karthik\"\n",
        "s3=\"Yuvasree$$111\"\n",
        "print(type(s1),type(s2),type(s3))"
      ],
      "execution_count": null,
      "outputs": [
        {
          "output_type": "stream",
          "text": [
            "<class 'str'> <class 'str'> <class 'str'>\n"
          ],
          "name": "stdout"
        }
      ]
    },
    {
      "cell_type": "code",
      "metadata": {
        "id": "EwXDNODjH_U1",
        "outputId": "191c5eb4-4e11-4f8b-b0c7-7731c248e5f7",
        "colab": {
          "base_uri": "https://localhost:8080/"
        }
      },
      "source": [
        "s=True\n",
        "f=False\n",
        "print(type(s))\n",
        "print(type(f))"
      ],
      "execution_count": null,
      "outputs": [
        {
          "output_type": "stream",
          "text": [
            "<class 'bool'>\n",
            "<class 'bool'>\n"
          ],
          "name": "stdout"
        }
      ]
    },
    {
      "cell_type": "code",
      "metadata": {
        "id": "1xk3n87LILA1",
        "outputId": "5d1a8d05-2c3e-42ef-fa8c-714fdeef4bd8",
        "colab": {
          "base_uri": "https://localhost:8080/",
          "height": 180
        }
      },
      "source": [
        "s=1+\"a\"\n",
        "print(s)"
      ],
      "execution_count": null,
      "outputs": [
        {
          "output_type": "error",
          "ename": "TypeError",
          "evalue": "ignored",
          "traceback": [
            "\u001b[0;31m---------------------------------------------------------------------------\u001b[0m",
            "\u001b[0;31mTypeError\u001b[0m                                 Traceback (most recent call last)",
            "\u001b[0;32m<ipython-input-30-281c2a303dae>\u001b[0m in \u001b[0;36m<module>\u001b[0;34m()\u001b[0m\n\u001b[0;32m----> 1\u001b[0;31m \u001b[0ms\u001b[0m\u001b[0;34m=\u001b[0m\u001b[0;36m1\u001b[0m\u001b[0;34m+\u001b[0m\u001b[0;34m\"a\"\u001b[0m\u001b[0;34m\u001b[0m\u001b[0;34m\u001b[0m\u001b[0m\n\u001b[0m\u001b[1;32m      2\u001b[0m \u001b[0mprint\u001b[0m\u001b[0;34m(\u001b[0m\u001b[0ms\u001b[0m\u001b[0;34m)\u001b[0m\u001b[0;34m\u001b[0m\u001b[0;34m\u001b[0m\u001b[0m\n",
            "\u001b[0;31mTypeError\u001b[0m: unsupported operand type(s) for +: 'int' and 'str'"
          ]
        }
      ]
    },
    {
      "cell_type": "code",
      "metadata": {
        "id": "ZI6AOLgQIQ80",
        "outputId": "55c3eeec-a42d-4c85-a3a4-eb931d63d0b0",
        "colab": {
          "base_uri": "https://localhost:8080/"
        }
      },
      "source": [
        "string =\"Harini\"\n",
        "print(string[-3:])\n",
        "print(string[0])\n",
        "print(string[-1])\n",
        "#string[startingindex:lastindex-1]\n",
        "print(string[1:4])\n"
      ],
      "execution_count": null,
      "outputs": [
        {
          "output_type": "stream",
          "text": [
            "ini\n",
            "H\n",
            "i\n",
            "ari\n"
          ],
          "name": "stdout"
        }
      ]
    },
    {
      "cell_type": "code",
      "metadata": {
        "id": "9lLAyco_I4vz",
        "outputId": "b7561eef-c402-421c-cde0-b39676ae8937",
        "colab": {
          "base_uri": "https://localhost:8080/"
        }
      },
      "source": [
        "l=list()\n",
        "l=[]\n",
        "l.append(1)\n",
        "print(1)"
      ],
      "execution_count": null,
      "outputs": [
        {
          "output_type": "stream",
          "text": [
            "1\n"
          ],
          "name": "stdout"
        }
      ]
    },
    {
      "cell_type": "code",
      "metadata": {
        "id": "DY89gJN7JBFy",
        "outputId": "d6304cb5-e0d0-417d-b769-8925186fb554",
        "colab": {
          "base_uri": "https://localhost:8080/"
        }
      },
      "source": [
        "d={1:\"karthi\"}\n",
        "s=set()\n",
        "s.add('Yuv')\n",
        "print(s)"
      ],
      "execution_count": null,
      "outputs": [
        {
          "output_type": "stream",
          "text": [
            "{'Yuv'}\n"
          ],
          "name": "stdout"
        }
      ]
    },
    {
      "cell_type": "code",
      "metadata": {
        "id": "SSzRjiMFJWLu",
        "outputId": "cebfd5cd-234a-4cbb-cf8c-f17b32e92004",
        "colab": {
          "base_uri": "https://localhost:8080/"
        }
      },
      "source": [
        "# a+b=4\n",
        "#Addition \n",
        "a=12\n",
        "b=5\n",
        "print(a+b)\n",
        "#Subtraction \n",
        "print(a-b)\n",
        "print(b-a)\n",
        "#Multiplication \n",
        "print(a*b)\n",
        "#Division \n",
        "print(a/b)\n",
        "#\n",
        "print(a//b)\n",
        "#remainder\n",
        "print(a%b)"
      ],
      "execution_count": null,
      "outputs": [
        {
          "output_type": "stream",
          "text": [
            "17\n",
            "7\n",
            "-7\n",
            "60\n",
            "2.4\n",
            "2\n",
            "2\n"
          ],
          "name": "stdout"
        }
      ]
    },
    {
      "cell_type": "code",
      "metadata": {
        "id": "ivbe5pqcKQgw",
        "outputId": "2b6e4b62-4e5b-4abf-ac18-c4d751f0b5b1",
        "colab": {
          "base_uri": "https://localhost:8080/"
        }
      },
      "source": [
        "#Assignment Operators \n",
        "a=6\n",
        "b=7\n",
        "a+=6\n",
        "# a=a+6\n",
        "print(a)\n",
        "b-=1\n",
        "# b=b-1\n",
        "print(b)\n",
        "c=10\n",
        "c*=5\n",
        "# c=c*5\n",
        "print(c)\n",
        "fruit1='apple'\n",
        "fruit2='appl2e'\n",
        "if(fruit1!=fruit2):\n",
        "  print(\"Yes!Yummy!!!\")\n",
        "\n",
        "num1=100\n",
        "num2=500\n",
        "if num1<=num2  :\n",
        "  print(\"num1 is lesser\")\n",
        "\n",
        "if not num1:\n",
        "  print(\"True\")\n",
        "else:\n",
        "  print(\"False\")\n",
        "# if (num2<=num1):\n",
        "#   print(\"num2 is lesser\")\n",
        "\n",
        "# if(num1!=num2):\n",
        "#   print(\"Not Equal\")"
      ],
      "execution_count": null,
      "outputs": [
        {
          "output_type": "stream",
          "text": [
            "12\n",
            "6\n",
            "50\n",
            "Yes!Yummy!!!\n",
            "num1 is lesser\n",
            "False\n"
          ],
          "name": "stdout"
        }
      ]
    },
    {
      "cell_type": "code",
      "metadata": {
        "id": "Ck1-7d_yNOnF"
      },
      "source": [
        ""
      ],
      "execution_count": null,
      "outputs": []
    },
    {
      "cell_type": "code",
      "metadata": {
        "id": "a-4A5i6ILuvA",
        "outputId": "ebaf682b-2879-42aa-9376-198148416a78",
        "colab": {
          "base_uri": "https://localhost:8080/"
        }
      },
      "source": [
        "x=[\"apple\",\"banana\"]\n",
        "y=[\"apple\",\"banana\"]\n",
        "z=x \n",
        "print(x is z)\n",
        "print(x is y)\n",
        "print(x==y)"
      ],
      "execution_count": null,
      "outputs": [
        {
          "output_type": "stream",
          "text": [
            "True\n",
            "False\n",
            "True\n"
          ],
          "name": "stdout"
        }
      ]
    },
    {
      "cell_type": "code",
      "metadata": {
        "id": "mXDdQmM-MCLd",
        "outputId": "db50d835-c415-4efe-e2ba-e5f68d2ceee4",
        "colab": {
          "base_uri": "https://localhost:8080/"
        }
      },
      "source": [
        "z=\"apple\"\n",
        "if 'p' in z:\n",
        "  print(\"True\")\n",
        "\n",
        "l=[\"Cat\",\"Dog\"]\n",
        "if \"Cat\" in l:\n",
        "  print(True)\n",
        "\n",
        "if \"Bat\" not in l:\n",
        "  print(False)\n"
      ],
      "execution_count": null,
      "outputs": [
        {
          "output_type": "stream",
          "text": [
            "True\n",
            "True\n",
            "False\n"
          ],
          "name": "stdout"
        }
      ]
    },
    {
      "cell_type": "code",
      "metadata": {
        "id": "Y24ZYc1GMWoN",
        "outputId": "2938a133-681b-4af8-a1e5-35f4d30f10f1",
        "colab": {
          "base_uri": "https://localhost:8080/"
        }
      },
      "source": [
        "#bin to int\n",
        "s=input()\n",
        "print(int(s,2))\n",
        "print(int(s,6))"
      ],
      "execution_count": null,
      "outputs": [
        {
          "output_type": "stream",
          "text": [
            "10\n",
            "2\n",
            "6\n"
          ],
          "name": "stdout"
        }
      ]
    },
    {
      "cell_type": "code",
      "metadata": {
        "id": "DO_x4GRiMjOV",
        "outputId": "c422525f-8f54-4a23-b440-7bca7d2fc60b",
        "colab": {
          "base_uri": "https://localhost:8080/"
        }
      },
      "source": [
        "#int to bin \n",
        "n=int(input())\n",
        "b=bin(n)\n",
        "print(b)\n",
        "# c=\"cat\"\n",
        "print(c[1:])\n",
        "print(b[2:])"
      ],
      "execution_count": null,
      "outputs": [
        {
          "output_type": "stream",
          "text": [
            "2\n",
            "0b10\n",
            "at\n",
            "10\n"
          ],
          "name": "stdout"
        }
      ]
    },
    {
      "cell_type": "code",
      "metadata": {
        "id": "egtNgK19Mwgd",
        "outputId": "20c071cd-4e39-49de-8c33-6f0767981ffd",
        "colab": {
          "base_uri": "https://localhost:8080/"
        }
      },
      "source": [
        "a=10\n",
        "binary=bin(a)\n",
        "binary=str(binary[2:])\n",
        "print(binary)\n",
        "num2=2\n",
        "binary2=bin(num2)\n",
        "binary2=str(binary2[2:])\n",
        "print(binary2)\n",
        "print(a|num2)\n",
        "#1010\n",
        "#0010\n",
        "#1010\n",
        "print(int('1010',2))\n",
        "\n"
      ],
      "execution_count": null,
      "outputs": [
        {
          "output_type": "stream",
          "text": [
            "1010\n",
            "10\n",
            "10\n",
            "10\n"
          ],
          "name": "stdout"
        }
      ]
    },
    {
      "cell_type": "code",
      "metadata": {
        "id": "6ryXZQ6BV8Ha",
        "outputId": "a59cc4e8-40fc-435b-91de-1254752ce966",
        "colab": {
          "base_uri": "https://localhost:8080/"
        }
      },
      "source": [
        "\n",
        "num=5\n",
        "\n",
        "leftshift=num<<1\n",
        "rightshift=num>>1\n",
        "\n",
        "num_binary=bin(num)\n",
        "lef_binary=bin(leftshift)\n",
        "right_binary=bin(rightshift)\n",
        "\n",
        "print(num_binary,lef_binary,right_binary)\n",
        "#0101 1010 0010 \n",
        "\n",
        "complement=~num\n",
        "comp_binary=bin(complement)\n",
        "# str(bin(complement)[2:])\n",
        "print(bin(num))\n",
        "print(comp_binary)"
      ],
      "execution_count": null,
      "outputs": [
        {
          "output_type": "stream",
          "text": [
            "2\n",
            "10\n",
            "101\n",
            "0b101 0b1010 0b10\n",
            "0b101\n",
            "-0b110\n"
          ],
          "name": "stdout"
        }
      ]
    },
    {
      "cell_type": "code",
      "metadata": {
        "id": "7fml2e-nOY3O",
        "outputId": "297762c1-d948-443d-9abf-e9f33b3badfa",
        "colab": {
          "base_uri": "https://localhost:8080/"
        }
      },
      "source": [
        "#if condition \n",
        "a=\"It rains\"\n",
        "if a:\n",
        "  print(\"No need to water plants\")"
      ],
      "execution_count": null,
      "outputs": [
        {
          "output_type": "stream",
          "text": [
            "No need to water plants\n"
          ],
          "name": "stdout"
        }
      ]
    },
    {
      "cell_type": "code",
      "metadata": {
        "id": "PTcsIgMHOjpT",
        "outputId": "b973f014-09b9-4de0-d3f4-3cc9f7be7b7b",
        "colab": {
          "base_uri": "https://localhost:8080/"
        }
      },
      "source": [
        "#if - else\n",
        "a=\"It's dry today\"\n",
        "if a==\"It rains\":\n",
        "  print(\"No need to water plants\")\n",
        "else:\n",
        "  print(\"Water plants by today\")"
      ],
      "execution_count": null,
      "outputs": [
        {
          "output_type": "stream",
          "text": [
            "Water plants by today\n"
          ],
          "name": "stdout"
        }
      ]
    },
    {
      "cell_type": "code",
      "metadata": {
        "id": "SuAOWQD0O8aX",
        "outputId": "9ebe0797-18a8-4736-d976-7a33411d169d",
        "colab": {
          "base_uri": "https://localhost:8080/"
        }
      },
      "source": [
        "# if elif else\n",
        "signal=\"Pink\"\n",
        "if signal==\"Green\":\n",
        "  print(\"Go\")\n",
        "elif signal==\"Yellow\":\n",
        "  print(\"Wait\")\n",
        "elif signal==\"Pink\":\n",
        "  print(\"Invalid\")\n",
        "else:\n",
        "  print(\"Stop\")"
      ],
      "execution_count": null,
      "outputs": [
        {
          "output_type": "stream",
          "text": [
            "Invalid\n"
          ],
          "name": "stdout"
        }
      ]
    },
    {
      "cell_type": "code",
      "metadata": {
        "id": "6ENpSs7lPP4T",
        "outputId": "cdb1d22b-f1d9-4421-bdd7-71b3e3c65cbd",
        "colab": {
          "base_uri": "https://localhost:8080/"
        }
      },
      "source": [
        "#nested if \n",
        "age=23\n",
        "if age>13 and age<21:\n",
        "  print(\"I'm a teenager\")\n",
        "else:\n",
        "  if age>21:\n",
        "    print(\"I'm eligible to be married\")\n",
        "  else:\n",
        "    print(\"Nope\")"
      ],
      "execution_count": null,
      "outputs": [
        {
          "output_type": "stream",
          "text": [
            "I'm eligible to be married\n"
          ],
          "name": "stdout"
        }
      ]
    },
    {
      "cell_type": "code",
      "metadata": {
        "id": "PHPE0nEsPtFv",
        "outputId": "a81c91f6-4ac0-4ac5-f18a-60f860d0efb2",
        "colab": {
          "base_uri": "https://localhost:8080/"
        }
      },
      "source": [
        "#Ternary onsition\n",
        "a,b=5,10\n",
        "print(\"The number is small\" if a<b else print(\"The number is large\"))"
      ],
      "execution_count": null,
      "outputs": [
        {
          "output_type": "stream",
          "text": [
            "The number is small\n"
          ],
          "name": "stdout"
        }
      ]
    },
    {
      "cell_type": "code",
      "metadata": {
        "id": "c_UkRg6rPJvB"
      },
      "source": [
        ""
      ],
      "execution_count": null,
      "outputs": []
    },
    {
      "cell_type": "code",
      "metadata": {
        "id": "ScCVvjY-Jjfw",
        "outputId": "dd00ea7c-a721-4c3a-cf3a-6f565915efbc",
        "colab": {
          "base_uri": "https://localhost:8080/"
        }
      },
      "source": [
        "n=4\n",
        "while n<10:\n",
        "    n=n*n\n",
        "    print(n)\n"
      ],
      "execution_count": null,
      "outputs": [
        {
          "output_type": "stream",
          "text": [
            "16\n"
          ],
          "name": "stdout"
        }
      ]
    },
    {
      "cell_type": "code",
      "metadata": {
        "id": "SNG7GrOZNP19",
        "outputId": "3b546c84-5deb-4f34-8d7a-0aac67fec3cf",
        "colab": {
          "base_uri": "https://localhost:8080/"
        }
      },
      "source": [
        "x=\"apple\"\n",
        "y=\"apple\"\n",
        "z=x\n",
        "# if x is y:\n",
        "#   print(\"Yes\")\n",
        "# if x==z:\n",
        "#   print(\"Yes\")\n",
        "l1=[\"Hello\",\"Wello\"]\n",
        "l2=[\"Hello\",\"World\"]\n",
        "l3=l1\n",
        "if l1!=l2:\n",
        "  print(\"Yes\")\n",
        "\n",
        "# if l1 is l3:\n",
        "#   print(\"Yes\")\n",
        "# else:\n",
        "#   print(\"No\")"
      ],
      "execution_count": null,
      "outputs": [
        {
          "output_type": "stream",
          "text": [
            "Yes\n"
          ],
          "name": "stdout"
        }
      ]
    },
    {
      "cell_type": "code",
      "metadata": {
        "id": "O-TOt4QhN_me",
        "outputId": "368ecb42-2e7d-46b4-b5db-327bff546a25",
        "colab": {
          "base_uri": "https://localhost:8080/"
        }
      },
      "source": [
        "x=\"apple\"\n",
        "if 'a' in x:\n",
        "  print(\"True\")"
      ],
      "execution_count": null,
      "outputs": [
        {
          "output_type": "stream",
          "text": [
            "True\n"
          ],
          "name": "stdout"
        }
      ]
    },
    {
      "cell_type": "code",
      "metadata": {
        "id": "li9b_r4gPLVx",
        "outputId": "547b535b-62a0-4bac-f24e-29bbf64ca4d9",
        "colab": {
          "base_uri": "https://localhost:8080/"
        }
      },
      "source": [
        "print(\"i ate 1 apple\")\n",
        "# n=10\n",
        "# n=str(n)\n",
        "print(\"i ate 2 apple\")\n",
        "for i in range(10):\n",
        "  print(\"I eat\"+str(i)+\"apples\")\n",
        "\n"
      ],
      "execution_count": null,
      "outputs": [
        {
          "output_type": "stream",
          "text": [
            "i ate 1 apple\n",
            "i ate 2 apple\n",
            "I eat0apples\n",
            "I eat1apples\n",
            "I eat2apples\n",
            "I eat3apples\n",
            "I eat4apples\n",
            "I eat5apples\n",
            "I eat6apples\n",
            "I eat7apples\n",
            "I eat8apples\n",
            "I eat9apples\n"
          ],
          "name": "stdout"
        }
      ]
    },
    {
      "cell_type": "code",
      "metadata": {
        "id": "vss1MuQsPisM",
        "outputId": "7ca060bd-9fc8-4d54-b780-1aa66fa91e9b",
        "colab": {
          "base_uri": "https://localhost:8080/"
        }
      },
      "source": [
        "chocolates=[\"Milky\",\"Dairy\",\"5star\"]\n",
        "for i in chocolates:\n",
        "  print(i,end=\",\")\n"
      ],
      "execution_count": null,
      "outputs": [
        {
          "output_type": "stream",
          "text": [
            "Milky,Dairy,5star,"
          ],
          "name": "stdout"
        }
      ]
    },
    {
      "cell_type": "code",
      "metadata": {
        "id": "2RViQHm7Pxzu",
        "outputId": "1232b05d-4ae9-4ae2-cd9d-afa7bfd71e0b",
        "colab": {
          "base_uri": "https://localhost:8080/"
        }
      },
      "source": [
        "str=\"Sakthi\"\n",
        "for i in str:\n",
        "  print(i)"
      ],
      "execution_count": null,
      "outputs": [
        {
          "output_type": "stream",
          "text": [
            "S\n",
            "a\n",
            "k\n",
            "t\n",
            "h\n",
            "i\n"
          ],
          "name": "stdout"
        }
      ]
    },
    {
      "cell_type": "code",
      "metadata": {
        "id": "I-6fIZaIP3N7",
        "outputId": "c47ea842-9c1e-44bc-c4dd-5b27a7096ee3",
        "colab": {
          "base_uri": "https://localhost:8080/"
        }
      },
      "source": [
        "tuple=(\"Cat\",\"Bat\",\"Dog\")\n",
        "for i in tuple:\n",
        "  print(i)"
      ],
      "execution_count": null,
      "outputs": [
        {
          "output_type": "stream",
          "text": [
            "Cat\n",
            "Bat\n",
            "Dog\n"
          ],
          "name": "stdout"
        }
      ]
    },
    {
      "cell_type": "code",
      "metadata": {
        "id": "96OOr9yrQBZF",
        "outputId": "8ee0078f-5005-42e1-b62d-0cd63c6cd69d",
        "colab": {
          "base_uri": "https://localhost:8080/"
        }
      },
      "source": [
        "d={1:\"Dincy\",2:\"Harini\",3:\"Karthi\"}\n",
        "for i in d:\n",
        "  print(d[i])\n"
      ],
      "execution_count": null,
      "outputs": [
        {
          "output_type": "stream",
          "text": [
            "Dincy\n",
            "Harini\n",
            "Karthi\n"
          ],
          "name": "stdout"
        }
      ]
    },
    {
      "cell_type": "code",
      "metadata": {
        "id": "iJmezntfQOAV",
        "outputId": "f487e18c-af8b-4bac-e974-90f8294b5a09",
        "colab": {
          "base_uri": "https://localhost:8080/"
        }
      },
      "source": [
        "# range(stindex,lastindex-1,incrementingvalue)\n",
        "# for i in range(100):\n",
        "#   print(i,end=\" \")\n",
        "\n",
        "# for i in range(50,100):\n",
        "#   print(i,end=\" \")\n",
        "\n",
        "for i in range(50,100,2):\n",
        "  print(i,end=\" \")"
      ],
      "execution_count": null,
      "outputs": [
        {
          "output_type": "stream",
          "text": [
            "50 52 54 56 58 60 62 64 66 68 70 72 74 76 78 80 82 84 86 88 90 92 94 96 98 "
          ],
          "name": "stdout"
        }
      ]
    },
    {
      "cell_type": "code",
      "metadata": {
        "id": "6Juc3vXCQsmk",
        "outputId": "d72d7a43-e03b-4d5e-cf0a-0e2ffe14af3f",
        "colab": {
          "base_uri": "https://localhost:8080/"
        }
      },
      "source": [
        "weeks=[\"sun\",\"mon\",\"tue\",\"wed\",\"thu\",\"fri\",\"sat\",\"sun2\"]\n",
        "for i in weeks:\n",
        "  # print(i)\n",
        "  if i==\"sat\":\n",
        "    continue\n",
        "  print(i)"
      ],
      "execution_count": null,
      "outputs": [
        {
          "output_type": "stream",
          "text": [
            "sun\n",
            "mon\n",
            "tue\n",
            "wed\n",
            "thu\n",
            "fri\n",
            "sun2\n"
          ],
          "name": "stdout"
        }
      ]
    },
    {
      "cell_type": "code",
      "metadata": {
        "id": "kiGzGPdyRID4",
        "outputId": "56f87556-9c1b-4f38-c14e-96624c50ced0",
        "colab": {
          "base_uri": "https://localhost:8080/"
        }
      },
      "source": [
        "weeks=[\"sun\",\"mon\",\"tue\",\"wed\",\"thu\",\"fri\",\"sat\",\"sun2\"]\n",
        "for i in weeks:\n",
        "  # print(i)\n",
        "  if i==\"thu\":\n",
        "    # break\n",
        "    pass\n",
        "  print(i)"
      ],
      "execution_count": null,
      "outputs": [
        {
          "output_type": "stream",
          "text": [
            "sun\n",
            "mon\n",
            "tue\n",
            "wed\n",
            "thu\n",
            "fri\n",
            "sat\n",
            "sun2\n"
          ],
          "name": "stdout"
        }
      ]
    },
    {
      "cell_type": "code",
      "metadata": {
        "id": "q9LU0G2qRkBK",
        "outputId": "71221177-f9b1-49d1-cdc0-a9f96ec75121",
        "colab": {
          "base_uri": "https://localhost:8080/"
        }
      },
      "source": [
        "i=0\n",
        "while(i<11):\n",
        "  print(i)\n",
        "  i+=1"
      ],
      "execution_count": null,
      "outputs": [
        {
          "output_type": "stream",
          "text": [
            "0\n",
            "1\n",
            "2\n",
            "3\n",
            "4\n",
            "5\n",
            "6\n",
            "7\n",
            "8\n",
            "9\n",
            "10\n"
          ],
          "name": "stdout"
        }
      ]
    },
    {
      "cell_type": "code",
      "metadata": {
        "id": "lLotBb_aRxU_",
        "outputId": "1c6dda04-b7b1-4b12-ff83-3830a3d88cc4",
        "colab": {
          "base_uri": "https://localhost:8080/"
        }
      },
      "source": [
        "i=0\n",
        "while i<9:\n",
        "  i+=1\n",
        "  if i==3:\n",
        "    continue\n",
        "  print(i)"
      ],
      "execution_count": null,
      "outputs": [
        {
          "output_type": "stream",
          "text": [
            "1\n",
            "2\n",
            "4\n",
            "5\n",
            "6\n",
            "7\n",
            "8\n",
            "9\n"
          ],
          "name": "stdout"
        }
      ]
    },
    {
      "cell_type": "code",
      "metadata": {
        "id": "NEQtAo99R673",
        "outputId": "4c94d33f-187d-4993-d316-d9bc1790bc57",
        "colab": {
          "base_uri": "https://localhost:8080/"
        }
      },
      "source": [
        "i=0\n",
        "while i<9:\n",
        "  i+=1\n",
        "  if i==3:\n",
        "    break\n",
        "  print(i)"
      ],
      "execution_count": null,
      "outputs": [
        {
          "output_type": "stream",
          "text": [
            "1\n",
            "2\n"
          ],
          "name": "stdout"
        }
      ]
    },
    {
      "cell_type": "code",
      "metadata": {
        "id": "9W8uLFt6SCn-",
        "outputId": "1052b4b3-4e29-4382-83ff-97410530c3d2",
        "colab": {
          "base_uri": "https://localhost:8080/"
        }
      },
      "source": [
        "x=[1,2,3,4,5]\n",
        "for i in x:\n",
        "  if i==3:\n",
        "    break\n",
        "  print(i)\n",
        "\n",
        "print(\"The End\")"
      ],
      "execution_count": null,
      "outputs": [
        {
          "output_type": "stream",
          "text": [
            "1\n",
            "2\n",
            "The End\n"
          ],
          "name": "stdout"
        }
      ]
    },
    {
      "cell_type": "code",
      "metadata": {
        "id": "l0mpmenHSQnm",
        "outputId": "001bf283-10ad-4ca9-908d-7797e77f6ca2",
        "colab": {
          "base_uri": "https://localhost:8080/"
        }
      },
      "source": [
        "lis=[1,2,3,4,5]\n",
        "\n",
        "# for i in \n",
        "# eg=\"abc\"\n",
        "# print(eg[::-1])\n",
        "for i in range(4,0,-1):\n",
        "  print(lis[i])"
      ],
      "execution_count": null,
      "outputs": [
        {
          "output_type": "stream",
          "text": [
            "5\n",
            "4\n",
            "3\n",
            "2\n"
          ],
          "name": "stdout"
        }
      ]
    },
    {
      "cell_type": "code",
      "metadata": {
        "id": "q44ps51sS4Rr",
        "outputId": "67d99373-69cb-452a-db98-5ffe922b3944",
        "colab": {
          "base_uri": "https://localhost:8080/"
        }
      },
      "source": [
        "student_name=\"Sakthi\"\n",
        "marks={\"Sakthi\":25,\"Karthik\":100,\"Yuvasree\":85,\"Harini\":100,}\n",
        "for i in marks:\n",
        "  if i==student_name:\n",
        "    print(marks[i])\n",
        "    break\n",
        "  else:\n",
        "    print(\"The student is not found\")"
      ],
      "execution_count": null,
      "outputs": [
        {
          "output_type": "stream",
          "text": [
            "25\n"
          ],
          "name": "stdout"
        }
      ]
    },
    {
      "cell_type": "code",
      "metadata": {
        "id": "S2Wx47hXTbYt",
        "outputId": "61a376c7-8102-407f-ddbb-4898787df881",
        "colab": {
          "base_uri": "https://localhost:8080/"
        }
      },
      "source": [
        "l=[]\n",
        "for i in range(101):\n",
        "  l.append(i)\n",
        "print(l)"
      ],
      "execution_count": null,
      "outputs": [
        {
          "output_type": "stream",
          "text": [
            "[0, 1, 2, 3, 4, 5, 6, 7, 8, 9, 10, 11, 12, 13, 14, 15, 16, 17, 18, 19, 20, 21, 22, 23, 24, 25, 26, 27, 28, 29, 30, 31, 32, 33, 34, 35, 36, 37, 38, 39, 40, 41, 42, 43, 44, 45, 46, 47, 48, 49, 50, 51, 52, 53, 54, 55, 56, 57, 58, 59, 60, 61, 62, 63, 64, 65, 66, 67, 68, 69, 70, 71, 72, 73, 74, 75, 76, 77, 78, 79, 80, 81, 82, 83, 84, 85, 86, 87, 88, 89, 90, 91, 92, 93, 94, 95, 96, 97, 98, 99, 100]\n"
          ],
          "name": "stdout"
        }
      ]
    },
    {
      "cell_type": "code",
      "metadata": {
        "id": "EvGaWRvDTpE-",
        "outputId": "96cfcdea-758a-47ac-bc21-0c2853107c21",
        "colab": {
          "base_uri": "https://localhost:8080/"
        }
      },
      "source": [
        "for i in range(1,99,2):\n",
        "  print(l[i])"
      ],
      "execution_count": null,
      "outputs": [
        {
          "output_type": "stream",
          "text": [
            "1\n",
            "3\n",
            "5\n",
            "7\n",
            "9\n",
            "11\n",
            "13\n",
            "15\n",
            "17\n",
            "19\n",
            "21\n",
            "23\n",
            "25\n",
            "27\n",
            "29\n",
            "31\n",
            "33\n",
            "35\n",
            "37\n",
            "39\n",
            "41\n",
            "43\n",
            "45\n",
            "47\n",
            "49\n",
            "51\n",
            "53\n",
            "55\n",
            "57\n",
            "59\n",
            "61\n",
            "63\n",
            "65\n",
            "67\n",
            "69\n",
            "71\n",
            "73\n",
            "75\n",
            "77\n",
            "79\n",
            "81\n",
            "83\n",
            "85\n",
            "87\n",
            "89\n",
            "91\n",
            "93\n",
            "95\n",
            "97\n"
          ],
          "name": "stdout"
        }
      ]
    },
    {
      "cell_type": "code",
      "metadata": {
        "id": "1K_eEtw8T6KV",
        "outputId": "19488d1a-3cee-4583-a316-2fcfbf2e6c2b",
        "colab": {
          "base_uri": "https://localhost:8080/"
        }
      },
      "source": [
        "string=\"apple\"\n",
        "print(string.title())\n",
        "print(string.capitalize())\n",
        "favourite=\"banana\"\n",
        "print(favourite.upper())\n",
        "animal=\"BAT\"\n",
        "print(animal.lower())\n",
        "counter=0\n",
        "for i in string:\n",
        "  if i=='p':\n",
        "    counter+=1\n",
        "print(counter)\n",
        "counter2=string.count('p')\n",
        "print(counter2)"
      ],
      "execution_count": null,
      "outputs": [
        {
          "output_type": "stream",
          "text": [
            "Apple\n",
            "Apple\n",
            "BANANA\n",
            "bat\n",
            "2\n",
            "2\n"
          ],
          "name": "stdout"
        }
      ]
    },
    {
      "cell_type": "code",
      "metadata": {
        "id": "yn7o7SVoUkw8",
        "outputId": "f8300db8-f0f5-44c7-bfe4-7f42569d03cd",
        "colab": {
          "base_uri": "https://localhost:8080/"
        }
      },
      "source": [
        "indexofa=favourite.index('a')\n",
        "print(indexofa)\n",
        "lastindex=favourite.rindex('a')\n",
        "print(lastindex)"
      ],
      "execution_count": null,
      "outputs": [
        {
          "output_type": "stream",
          "text": [
            "1\n",
            "5\n"
          ],
          "name": "stdout"
        }
      ]
    },
    {
      "cell_type": "code",
      "metadata": {
        "id": "IXS8O6IyU1Zv",
        "outputId": "68ad4d04-3738-4664-b54b-310dd9086d7b",
        "colab": {
          "base_uri": "https://localhost:8080/"
        }
      },
      "source": [
        "favourite=\"ant\"\n",
        "findz=favourite.find('z')\n",
        "print(findz)\n",
        "indexofa=favourite.index('a')\n",
        "print(indexofa)\n"
      ],
      "execution_count": 5,
      "outputs": [
        {
          "output_type": "stream",
          "text": [
            "-1\n",
            "0\n"
          ],
          "name": "stdout"
        }
      ]
    },
    {
      "cell_type": "code",
      "metadata": {
        "id": "_-nLQ8qNVDu7",
        "outputId": "b3e5001e-18d4-482f-9ad2-a70e2d6a3fe1",
        "colab": {
          "base_uri": "https://localhost:8080/"
        }
      },
      "source": [
        "a=\"67800123\"\n",
        "if a.isnumeric():\n",
        "  print(\"True\")\n",
        "else:\n",
        "  print(\"False\")"
      ],
      "execution_count": null,
      "outputs": [
        {
          "output_type": "stream",
          "text": [
            "True\n"
          ],
          "name": "stdout"
        }
      ]
    },
    {
      "cell_type": "code",
      "metadata": {
        "id": "REZOEFVNVauO",
        "outputId": "c41e44b4-4618-438f-ef99-882b009d098a",
        "colab": {
          "base_uri": "https://localhost:8080/"
        }
      },
      "source": [
        "a=\"apple\"\n",
        "if a.islower():\n",
        "  print(\"Yeah lowercase\")\n",
        "elif a.isupper():\n",
        "  print(\"Yeah Uppercase\")\n",
        "else:\n",
        "  print(\"Nope\")"
      ],
      "execution_count": null,
      "outputs": [
        {
          "output_type": "stream",
          "text": [
            "Yeah lowercase\n"
          ],
          "name": "stdout"
        }
      ]
    },
    {
      "cell_type": "code",
      "metadata": {
        "id": "0Jh-NyLiV-2T",
        "outputId": "20541cc3-6f11-40fa-f9ee-82f076ad3704",
        "colab": {
          "base_uri": "https://localhost:8080/"
        }
      },
      "source": [
        "sentence=\"Welcome#to#today's#class\"\n",
        "result=sentence.split(\"#\")\n",
        "print(result)"
      ],
      "execution_count": null,
      "outputs": [
        {
          "output_type": "stream",
          "text": [
            "['Welcome', 'to', \"today's\", 'class']\n"
          ],
          "name": "stdout"
        }
      ]
    },
    {
      "cell_type": "code",
      "metadata": {
        "id": "Wv1SEy5HWRUV",
        "outputId": "078f1ea0-e762-4e0b-e882-380399c85ede",
        "colab": {
          "base_uri": "https://localhost:8080/"
        }
      },
      "source": [
        "tuple=(\"Dincy\",\"Karthik\",\"Harini\")\n",
        "x=\"Best Students\".join(tuple)\n",
        "print(x)"
      ],
      "execution_count": null,
      "outputs": [
        {
          "output_type": "stream",
          "text": [
            "DincyBest StudentsKarthikBest StudentsHarini\n"
          ],
          "name": "stdout"
        }
      ]
    },
    {
      "cell_type": "code",
      "metadata": {
        "id": "pm8AvJ1pWeWJ",
        "outputId": "690d1b7f-d98c-4073-b761-ed041b9a04b1",
        "colab": {
          "base_uri": "https://localhost:8080/"
        }
      },
      "source": [
        "favouriteanimal=\"                    Goldy                  \"\n",
        "# favouriteanimal=favouriteanimal.lstrip()\n",
        "# favouriteanimal=favouriteanimal.rstrip()\n",
        "favouriteanimal=favouriteanimal.strip()\n",
        "\n",
        "print(\"Of all animals \"+favouriteanimal+\" is my favourite\")\n"
      ],
      "execution_count": null,
      "outputs": [
        {
          "output_type": "stream",
          "text": [
            "Of all animals Goldy is my favourite\n"
          ],
          "name": "stdout"
        }
      ]
    },
    {
      "cell_type": "code",
      "metadata": {
        "id": "Auttwjz5W-C5",
        "outputId": "b8bc9906-b7d4-405f-8b47-befcf6226077",
        "colab": {
          "base_uri": "https://localhost:8080/"
        }
      },
      "source": [
        "x=\"Bagavathy\"\n",
        "if x.startswith(\"b\"):\n",
        "  print(x)\n",
        "else:\n",
        "  print(\"Nope!!!\")\n",
        "\n",
        "if x.endswith(\"y\"):\n",
        "  print(\"Yes\")\n",
        "else:\n",
        "  print(\"No\")"
      ],
      "execution_count": null,
      "outputs": [
        {
          "output_type": "stream",
          "text": [
            "Nope!!!\n",
            "Yes\n"
          ],
          "name": "stdout"
        }
      ]
    },
    {
      "cell_type": "code",
      "metadata": {
        "id": "L5m94TtMXW_N",
        "outputId": "75c536fb-62ba-4fa4-b97f-cceeab2ecf7a",
        "colab": {
          "base_uri": "https://localhost:8080/"
        }
      },
      "source": [
        "# print(\"Hello\")\n",
        "def my_func():\n",
        "  print(\"Heyyy Guyz\")\n",
        "\n",
        "my_func()\n"
      ],
      "execution_count": null,
      "outputs": [
        {
          "output_type": "stream",
          "text": [
            "Hello\n"
          ],
          "name": "stdout"
        }
      ]
    },
    {
      "cell_type": "code",
      "metadata": {
        "id": "ShCxsV8IXw52",
        "outputId": "7f4455f5-e12a-4398-fca2-29e4df931baf",
        "colab": {
          "base_uri": "https://localhost:8080/"
        }
      },
      "source": [
        "def myfunc(fname):\n",
        "  print(\"Hello \"+fname)\n",
        "\n",
        "myfunc(\"Bagavathy\")\n",
        "myfunc(\"Harini\")\n",
        "myfunc(\"Yuvjri\")"
      ],
      "execution_count": null,
      "outputs": [
        {
          "output_type": "stream",
          "text": [
            "HelloBagavathy\n",
            "HelloHarini\n",
            "HelloYuvjri\n"
          ],
          "name": "stdout"
        }
      ]
    },
    {
      "cell_type": "code",
      "metadata": {
        "id": "cm4Fzj9XYDyj",
        "outputId": "5ac29e86-95d8-49d6-8106-ba2f5d44fa1b",
        "colab": {
          "base_uri": "https://localhost:8080/"
        }
      },
      "source": [
        "def threepara(fname,lname,tname):\n",
        "  print(\"Hi \"+fname+\" \"+lname+\" \"+tname )\n",
        "\n",
        "# twopara(\"supraja\",\"arthi\")\n",
        "threepara(\"sakthi\",\"siva\",\"parvathi\")"
      ],
      "execution_count": null,
      "outputs": [
        {
          "output_type": "stream",
          "text": [
            "Hi sakthi siva parvathi\n"
          ],
          "name": "stdout"
        }
      ]
    },
    {
      "cell_type": "code",
      "metadata": {
        "id": "auJcziPkYiKU",
        "outputId": "3410a85f-2c84-45f0-f8bb-d3c8d2e20f99",
        "colab": {
          "base_uri": "https://localhost:8080/"
        }
      },
      "source": [
        "# a=5\n",
        "# b=6\n",
        "# print(a+b)\n",
        "def add(a,b):\n",
        "  # print(a+b)\n",
        "  return a+b\n",
        "\n",
        "print(add(5,6))"
      ],
      "execution_count": null,
      "outputs": [
        {
          "output_type": "stream",
          "text": [
            "11\n"
          ],
          "name": "stdout"
        }
      ]
    },
    {
      "cell_type": "code",
      "metadata": {
        "id": "bZY7Rp8YZlgA",
        "outputId": "b4579798-d16d-4b48-b619-ec93c585edc7",
        "colab": {
          "base_uri": "https://localhost:8080/"
        }
      },
      "source": [
        "#int to bin\n",
        "n=input()\n",
        "print(int(n,2))\n",
        "print(int(n,6))"
      ],
      "execution_count": null,
      "outputs": [
        {
          "output_type": "stream",
          "text": [
            "10\n",
            "2\n",
            "6\n"
          ],
          "name": "stdout"
        }
      ]
    },
    {
      "cell_type": "code",
      "metadata": {
        "id": "V2fzAMBLZ7_w",
        "outputId": "296c7ccb-4fd5-4bf4-da63-ca5839589f76",
        "colab": {
          "base_uri": "https://localhost:8080/"
        }
      },
      "source": [
        "#bin to int \n",
        "n=int(input())\n",
        "binary=bin(n)\n",
        "n2=int(input())\n",
        "binary2=bin(n2)\n",
        "print(binary[2:])\n",
        "\n",
        "print(binary2[2:])\n",
        "andbin=n&n2\n",
        "print(andbin)\n",
        "orbin=n|n2\n",
        "xorbin=n^n2\n",
        "leftshift=n<<1\n",
        "rightshift=n>>1\n",
        "complement=~n\n",
        "print(xorbin)\n",
        "#1010\n",
        "#0101\n",
        "print(bin(leftshift))\n",
        "print(bin(rightshift))\n",
        "print(complement)"
      ],
      "execution_count": null,
      "outputs": [
        {
          "output_type": "stream",
          "text": [
            "2\n",
            "5\n",
            "10\n",
            "101\n",
            "0\n",
            "7\n",
            "0b100\n",
            "0b1\n",
            "-3\n"
          ],
          "name": "stdout"
        }
      ]
    },
    {
      "cell_type": "code",
      "metadata": {
        "id": "GQXPwq1igBrV",
        "outputId": "36db25f7-25f7-4b93-a8d2-c3c05a7a349d",
        "colab": {
          "base_uri": "https://localhost:8080/"
        }
      },
      "source": [
        "x=\"Bagavathy\"\n",
        "if x.startswith(\"b\"):\n",
        "  print(x)\n",
        "else:\n",
        "  print(\"Nope!!!\")\n",
        "\n",
        "if x.endswith(\"y\"):\n",
        "  print(\"Yes\")\n",
        "else:\n",
        "  print(\"No\")"
      ],
      "execution_count": null,
      "outputs": [
        {
          "output_type": "stream",
          "text": [
            "Nope!!!\n",
            "Yes\n"
          ],
          "name": "stdout"
        }
      ]
    },
    {
      "cell_type": "code",
      "metadata": {
        "id": "dkf8AvuRgi_v",
        "outputId": "533f3741-eada-4625-f293-cf48f39fece3",
        "colab": {
          "base_uri": "https://localhost:8080/"
        }
      },
      "source": [
        "l1=[1,2,3]\n",
        "l2=[4,5,6]\n",
        "for i in l1:\n",
        "  l2.append(i)\n",
        "print(l2)"
      ],
      "execution_count": null,
      "outputs": [
        {
          "output_type": "stream",
          "text": [
            "[4, 5, 6, 1, 2, 3]\n"
          ],
          "name": "stdout"
        }
      ]
    },
    {
      "cell_type": "code",
      "metadata": {
        "id": "IcKJZbT2WjEK"
      },
      "source": [
        "#list"
      ],
      "execution_count": null,
      "outputs": []
    }
  ]
}